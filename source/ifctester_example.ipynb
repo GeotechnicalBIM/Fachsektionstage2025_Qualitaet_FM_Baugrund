{
 "cells": [
  {
   "cell_type": "markdown",
   "metadata": {},
   "source": [
    "# IFC TESTER EXAMPLES\n",
    "Simple examples demonstrating the functionality of the ifctester module."
   ]
  },
  {
   "cell_type": "code",
   "execution_count": 1,
   "metadata": {},
   "outputs": [],
   "source": [
    "import ifcopenshell\n",
    "import ifctester\n",
    "import ifctester.reporter"
   ]
  },
  {
   "cell_type": "code",
   "execution_count": 2,
   "metadata": {},
   "outputs": [
    {
     "name": "stdout",
     "output_type": "stream",
     "text": [
      "XML schmema used: XMLSchema10(name='ids.xsd', namespace='http://standards.buildingsmart.org/IDS')\n"
     ]
    }
   ],
   "source": [
    "# Load the IDS\n",
    "filepath_ids = \"../project_data/example_ids.ids\"\n",
    "filepath_ifc = \"../project_data/script_output_4x3.ifc\"\n",
    "ids = ifctester.open(filepath_ids, validate=True)\n",
    "ifc = ifcopenshell.open(filepath_ifc)\n",
    "print(f\"XML schmema used: {ifctester.ids.get_schema()}\")"
   ]
  },
  {
   "cell_type": "code",
   "execution_count": 3,
   "metadata": {},
   "outputs": [
    {
     "name": "stdout",
     "output_type": "stream",
     "text": [
      "Found 3 in the provided IDS file. \n",
      "They are named: ['Erforderlichkeit_IFCGEOMODEL', 'WerteBereich_Kohaesion', 'Modellaufbau_Borehole_GeotechnicalStratum']\n"
     ]
    }
   ],
   "source": [
    "# Show some functionality\n",
    "\n",
    "# Get all the specifications from the ids\n",
    "specifications = ids.specifications\n",
    "print(f\"Found {len(specifications)} in the provided IDS file. \\nThey are named: {[i.name for i in specifications]}\")"
   ]
  },
  {
   "cell_type": "code",
   "execution_count": 4,
   "metadata": {},
   "outputs": [],
   "source": [
    "# Validate the entire IDS file\n",
    "ids.validate(ifc, should_filter_version=False, filepath=\"../project_data/temp.txt\")"
   ]
  },
  {
   "cell_type": "code",
   "execution_count": 5,
   "metadata": {},
   "outputs": [],
   "source": [
    "reporter = ifctester.reporter.Json(ids)\n",
    "reporter.report()\n",
    "reporter.to_file(\"../project_data/reports/json_report.json\")"
   ]
  },
  {
   "cell_type": "code",
   "execution_count": 6,
   "metadata": {},
   "outputs": [],
   "source": [
    "# Needs pip install bcf-client\n",
    "reporter = ifctester.reporter.Bcf(ids)\n",
    "reporter.report()\n",
    "reporter.to_file(\"../project_data/reports/bfc_report.bcf\")"
   ]
  },
  {
   "cell_type": "code",
   "execution_count": 7,
   "metadata": {},
   "outputs": [
    {
     "data": {
      "text/plain": [
       "21386"
      ]
     },
     "execution_count": 7,
     "metadata": {},
     "output_type": "execute_result"
    }
   ],
   "source": [
    "reporter = ifctester.reporter.Html(ids)\n",
    "reporter.report()\n",
    "reporter.to_file(\"../project_data/reports/html_report.html\")"
   ]
  },
  {
   "cell_type": "code",
   "execution_count": 9,
   "metadata": {},
   "outputs": [],
   "source": [
    "# needs pip install odfpy\n",
    "reporter = ifctester.reporter.Ods(ids,excel_safe=True)\n",
    "reporter.report()\n",
    "reporter.to_file(\"../project_data/reports/ods_report.ods\")"
   ]
  }
 ],
 "metadata": {
  "kernelspec": {
   "display_name": "blender_42_env",
   "language": "python",
   "name": "python3"
  },
  "language_info": {
   "codemirror_mode": {
    "name": "ipython",
    "version": 3
   },
   "file_extension": ".py",
   "mimetype": "text/x-python",
   "name": "python",
   "nbconvert_exporter": "python",
   "pygments_lexer": "ipython3",
   "version": "3.11.7"
  }
 },
 "nbformat": 4,
 "nbformat_minor": 2
}
