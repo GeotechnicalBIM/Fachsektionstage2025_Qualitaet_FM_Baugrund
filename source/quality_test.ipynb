{
 "cells": [
  {
   "cell_type": "markdown",
   "metadata": {},
   "source": [
    "# Beispiel Qualitätstest ohne unittest-Framework\n",
    "In diesem Notebook wird ein Test gezeigt, bei dem nicht auf das unittest-Framework zurückgegriffen wird. Der Test ist sehr ausführlich und entsprechend kommentiert, da er instruktiven Charakter haben soll."
   ]
  },
  {
   "cell_type": "code",
   "execution_count": null,
   "metadata": {},
   "outputs": [],
   "source": [
    "import ifcopenshell\n",
    "from ifcopenshell.api import run\n",
    "import ifcopenshell.util.element\n",
    "import ifcopenshell.util.selector\n",
    "import re\n",
    "from collections import Counter"
   ]
  },
  {
   "cell_type": "code",
   "execution_count": 2,
   "metadata": {},
   "outputs": [],
   "source": [
    "# Laden der IFC-Datei.\n",
    "model = ifcopenshell.open(\"../project_data/script_output_4x3.ifc\")\n",
    "model = ifcopenshell.open(\"../project_data/script_output_4x3_with_errors.ifc\")"
   ]
  },
  {
   "cell_type": "code",
   "execution_count": 3,
   "metadata": {},
   "outputs": [
    {
     "name": "stdout",
     "output_type": "stream",
     "text": [
      "15 Elemente haben bestanden, 1 sind durchgefallen.\n",
      "Durchgefallen sind:\n",
      "\n",
      "\t[#58686=IfcGeotechnicalStratum('27mPO3VuD2_RgFB2AYPh7k',$,'wrong_borehole_name_xy',$,'ANSPRACHEBEREICH',$,$,$,.USERDEFINED.)]\n"
     ]
    },
    {
     "data": {
      "text/plain": [
       "([#176=IfcGeotechnicalStratum('31mCmTzGDF6OQLeIXkJk_b',$,'bh_003_0',$,'ANSPRACHEBEREICH',#412,#189,$,.USERDEFINED.),\n",
       "  #318=IfcGeotechnicalStratum('18lAReeSL14O5n26h3H27R',$,'bh_005_1',$,'ANSPRACHEBEREICH',#457,#331,$,.USERDEFINED.),\n",
       "  #112=IfcGeotechnicalStratum('1ea67PoivCdh5u_9dbkNu_',$,'bh_002_0',$,'ANSPRACHEBEREICH',#437,#125,$,.USERDEFINED.),\n",
       "  #332=IfcGeotechnicalStratum('007gFEIM5B$OGJ_gBzBjGk',$,'bh_005_2',$,'ANSPRACHEBEREICH',#462,#345,$,.USERDEFINED.),\n",
       "  #254=IfcGeotechnicalStratum('1g8_OC6$j9u9oD41FO6Qx6',$,'bh_004_1',$,'ANSPRACHEBEREICH',#382,#267,$,.USERDEFINED.),\n",
       "  #48=IfcGeotechnicalStratum('1di9z_UxT8sudYhkRZVe35',$,'bh_001_0',$,'ANSPRACHEBEREICH',#392,#61,$,.USERDEFINED.),\n",
       "  #190=IfcGeotechnicalStratum('2$oDgFjTn2lvAIeZDQVnlc',$,'bh_003_1',$,'ANSPRACHEBEREICH',#422,#203,$,.USERDEFINED.),\n",
       "  #126=IfcGeotechnicalStratum('05ywY0M952VhKv5u$2mqMG',$,'bh_002_1',$,'ANSPRACHEBEREICH',#432,#139,$,.USERDEFINED.),\n",
       "  #268=IfcGeotechnicalStratum('3Mfha8MSHBEv_R_haw1g84',$,'bh_004_2',$,'ANSPRACHEBEREICH',#372,#281,$,.USERDEFINED.),\n",
       "  #62=IfcGeotechnicalStratum('2ftJYYPF9EgO6$DZiVKHGi',$,'bh_001_1',$,'ANSPRACHEBEREICH',#397,#75,$,.USERDEFINED.),\n",
       "  #204=IfcGeotechnicalStratum('3B8P68aGT05BKx_JrDBc$a',$,'bh_003_2',$,'ANSPRACHEBEREICH',#417,#217,$,.USERDEFINED.),\n",
       "  #140=IfcGeotechnicalStratum('1DvcTOVgDA8RAg2Qh3CuuM',$,'bh_002_2',$,'ANSPRACHEBEREICH',#442,#153,$,.USERDEFINED.),\n",
       "  #76=IfcGeotechnicalStratum('3KHTcUCxH9ixUrowUKS3ya',$,'bh_001_2',$,'ANSPRACHEBEREICH',#402,#89,$,.USERDEFINED.),\n",
       "  #304=IfcGeotechnicalStratum('3uiL$BnGv2ov8e2Z1Xf0jS',$,'bh_005_0',$,'ANSPRACHEBEREICH',#452,#317,$,.USERDEFINED.),\n",
       "  #240=IfcGeotechnicalStratum('0AM8cssLD8V9GbnbfHoPqs',$,'bh_004_0',$,'ANSPRACHEBEREICH',#377,#253,$,.USERDEFINED.)],\n",
       " [#58686=IfcGeotechnicalStratum('27mPO3VuD2_RgFB2AYPh7k',$,'wrong_borehole_name_xy',$,'ANSPRACHEBEREICH',$,$,$,.USERDEFINED.)])"
      ]
     },
     "execution_count": 3,
     "metadata": {},
     "output_type": "execute_result"
    }
   ],
   "source": [
    "def Modellaufbau_Borehole_GeotechnicalStratum(model):\n",
    "    \"\"\"\n",
    "    Beschreibung:\n",
    "        Ein IfcBorehole dient als Container für verschiedene IfcGeotechnicalStratum. IfcBorehole beschreibt die Bohrung als ganzes, wohin IfcGeotechnicalStratum zur Repräsentation von Ansprachebereichen verwendet wird.\n",
    "    Anweisung:\n",
    "        Der Modellaufbau ist durch den Fachplaner für Geotechnik sicherzustellen.\n",
    "    \"\"\"\n",
    "\n",
    "    # Filtern der Elemente\n",
    "    elems = model.by_type(\"IfcGeotechnicalStratum\")\n",
    "    elems = [i for i in elems if i.ObjectType == \"ANSPRACHEBEREICH\"]\n",
    "    \n",
    "    # Alternativ unter Nutzung der Query Syntax\n",
    "    elems = ifcopenshell.util.selector.filter_elements(model, \"IfcGeotechnicalStratum, ObjectType=ANSPRACHEBEREICH\")\n",
    "\n",
    "    # Für jedes Element: Prüfen der Anforderung\n",
    "    passed, failed = [], []\n",
    "    for elem in elems:\n",
    "        if not elem.Decomposes:\n",
    "            failed.append(elem)\n",
    "            continue\n",
    "        if any((i.RelatingObject.is_a(\"IfcBorehole\") and i.is_a(\"IfcRelAggregates\")) for i in elem.Decomposes): # Hinweis: Hier muss minndestens eine der IfcRelAggregates auf ein IfcBorehole verweisen. Wenn es genau eins sein soll, dann len(elem.Decomposes) == 1 und elem.Decomposes[0] testen\n",
    "            passed.append(elem)\n",
    "        else:\n",
    "            failed.append(elem)\n",
    "    \n",
    "    print(f\"{len(passed)} Elemente haben bestanden, {len(failed)} sind durchgefallen.\")\n",
    "    if failed:\n",
    "        print(f\"Durchgefallen sind:\\n\")\n",
    "        for i in failed:\n",
    "            print(f\"\\t{failed}\")\n",
    "\n",
    "    return passed, failed\n",
    "\n",
    "Modellaufbau_Borehole_GeotechnicalStratum(model)    \n"
   ]
  },
  {
   "cell_type": "code",
   "execution_count": 4,
   "metadata": {},
   "outputs": [],
   "source": [
    "def WerteBereich_Kohaesion(model, min_val=0, max_val=1_000):\n",
    "    \"\"\"\n",
    "    Prüft, ob die Eigenschaft CohesionBehaviour im Pset_SolidStratumCapacity in einem Wertebereich liegt\n",
    "    \"\"\"\n",
    "    # Filtern der Elemente\n",
    "    # Hinweis: IfcSimpleProperties können auf mehrere Arten beschrieben werden, die am häufigst verwendete ist IfcPropertySingleValue\n",
    "    elems = model.by_type(\"IfcSimpleProperty\")\n",
    "    #elems = model.by_type(\"IfcPropertySingleValue\") + model.by_type(\"IfcPropertyBoundedValue\") + model.by_type(\"IfcPropertyEnumeratedValue\") + model.by_type(\"IfcPropertyListValue\") + model.by_type(\"IfcPropertyReferenceValue\") + model.by_type(\"IfcPropertyTableValue\")\n",
    "\n",
    "    elems = [i for i in elems if i.Name==\"CohesionBehaviour\"]\n",
    "    elems = [i for i in elems if any(j.Name==\"Pset_SolidStratumCapacity\" for j in i.PartOfPset)]\n",
    "\n",
    "    # Für jedes Element: Prüfen der Anforderung\n",
    "    passed, failed = [], []\n",
    "    for elem in elems:\n",
    "        value = elem.NominalValue.wrappedValue\n",
    "        if value>=min_val and value<=max_val: # Hinweis: Im IDS Beispiel werden die beiden Tests gesondert gelistet.\n",
    "            passed.append(elem)\n",
    "        else:\n",
    "            failed.append(elem)\n",
    "\n",
    "    #    print(elem.NominalValue, elem.Unit)\n",
    "    #    print(elem.HasConstraints)\n",
    "    #print(dir(elem.NominalValue))\n",
    "    #print(elem.NominalValue.wrappedValue)\n",
    "\n",
    "\n",
    "WerteBereich_Kohaesion(model)\n"
   ]
  },
  {
   "cell_type": "code",
   "execution_count": 5,
   "metadata": {},
   "outputs": [],
   "source": [
    "# Each IfcBorehole shall have the Pset_BoreholeCommon\n",
    "elems = model.by_type(\"IfcBorehole\")\n",
    "passed, failed = [], []\n",
    "for elem in elems:\n",
    "    psets = ifcopenshell.util.element.get_psets(elem)\n",
    "    if \"Pset_BoreholeCommon\" in ifcopenshell.util.element.get_psets(elem).keys():\n",
    "        passed.append(elem)\n",
    "    else:\n",
    "        failed.append(elem)"
   ]
  },
  {
   "cell_type": "code",
   "execution_count": 6,
   "metadata": {},
   "outputs": [
    {
     "name": "stdout",
     "output_type": "stream",
     "text": [
      "The Borehole bh_001 is located in Baustelle_Fachsektionstage, #13=IfcSite('0BkGq0KRz1vPCdK7VfEEms',$,'Baustelle_Fachsektionstage',$,$,$,$,$,$,$,$,$,$,$)\n",
      "The Borehole bh_002 is located in Baustelle_Fachsektionstage, #13=IfcSite('0BkGq0KRz1vPCdK7VfEEms',$,'Baustelle_Fachsektionstage',$,$,$,$,$,$,$,$,$,$,$)\n",
      "The Borehole bh_003 is located in Baustelle_Fachsektionstage, #13=IfcSite('0BkGq0KRz1vPCdK7VfEEms',$,'Baustelle_Fachsektionstage',$,$,$,$,$,$,$,$,$,$,$)\n",
      "The Borehole bh_004 is located in Baustelle_Fachsektionstage, #13=IfcSite('0BkGq0KRz1vPCdK7VfEEms',$,'Baustelle_Fachsektionstage',$,$,$,$,$,$,$,$,$,$,$)\n",
      "The Borehole bh_005 is located in Baustelle_Fachsektionstage, #13=IfcSite('0BkGq0KRz1vPCdK7VfEEms',$,'Baustelle_Fachsektionstage',$,$,$,$,$,$,$,$,$,$,$)\n",
      "No container for wrong_borehole_name\n",
      "No container for wrong_borehole_name\n"
     ]
    }
   ],
   "source": [
    "# Get the containers for each IfcBorehole\n",
    "elems = model.by_type(\"IfcBorehole\")\n",
    "passed, failed = [], []\n",
    "for elem in elems:\n",
    "    container = ifcopenshell.util.element.get_container(elem)\n",
    "    if container:\n",
    "        print(f\"The Borehole {elem.Name} is located in {container.Name}, {container}\")\n",
    "    else:\n",
    "        print(f\"No container for {elem.Name}\")"
   ]
  },
  {
   "cell_type": "code",
   "execution_count": 7,
   "metadata": {},
   "outputs": [],
   "source": [
    "# Check naming convention\n",
    "elems = model.by_type(\"IfcBorehole\")\n",
    "passed, failed = [], []\n",
    "for elem in elems:\n",
    "    if re.match( r'^bh_\\d{3}$', elem.Name):\n",
    "        passed.append(elem)\n",
    "    else:\n",
    "        failed.append(elem)"
   ]
  },
  {
   "cell_type": "code",
   "execution_count": 10,
   "metadata": {},
   "outputs": [],
   "source": [
    "# Unique Names\n",
    "elems =model.by_type(\"IfcBorehole\")\n",
    "counter = Counter([i.Name for i in model.by_type(\"IfcBorehole\")])\n",
    "passed, failed = [], []\n",
    "for elem in elems:\n",
    "    if counter[elem.Name]==1:\n",
    "        passed.append(elem.Name)\n",
    "    else:\n",
    "        failed.append(elem.Name)"
   ]
  }
 ],
 "metadata": {
  "kernelspec": {
   "display_name": "blender_42_env",
   "language": "python",
   "name": "python3"
  },
  "language_info": {
   "codemirror_mode": {
    "name": "ipython",
    "version": 3
   },
   "file_extension": ".py",
   "mimetype": "text/x-python",
   "name": "python",
   "nbconvert_exporter": "python",
   "pygments_lexer": "ipython3",
   "version": "3.11.7"
  }
 },
 "nbformat": 4,
 "nbformat_minor": 2
}
