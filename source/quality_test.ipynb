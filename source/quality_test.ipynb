{
 "cells": [
  {
   "cell_type": "markdown",
   "metadata": {},
   "source": [
    "# Beispiel Qualitätstest ohne unittest-Framework\n",
    "In diesem Notebook wird ein Test gezeigt, bei dem nicht auf das unittest-Framework zurückgegriffen wird. Der Test ist sehr ausführlich und entsprechend kommentiert, da er instruktiven Charakter haben soll."
   ]
  },
  {
   "cell_type": "code",
   "execution_count": 1,
   "metadata": {},
   "outputs": [],
   "source": [
    "import ifcopenshell\n",
    "from ifcopenshell.api import run\n",
    "import ifcopenshell.util.element\n",
    "import ifcopenshell.util.selector\n",
    "import re\n",
    "from collections import Counter"
   ]
  },
  {
   "cell_type": "code",
   "execution_count": 2,
   "metadata": {},
   "outputs": [],
   "source": [
    "# Laden der IFC-Datei.\n",
    "model = ifcopenshell.open(\"../project_data/script_output_4x3.ifc\")\n",
    "model = ifcopenshell.open(\"../project_data/script_output_4x3_with_errors.ifc\")"
   ]
  },
  {
   "cell_type": "code",
   "execution_count": 11,
   "metadata": {},
   "outputs": [
    {
     "name": "stdout",
     "output_type": "stream",
     "text": [
      "15 Elemente haben bestanden, 1 sind durchgefallen.\n",
      "Durchgefallen sind:\n",
      "\n",
      "\t[#58686=IfcGeotechnicalStratum('0eMnmQ6Qf9u9$Yv2NP_MMS',$,'wrong_borehole_name_xy',$,'ANSPRACHEBEREICH',$,$,$,.USERDEFINED.)]\n"
     ]
    }
   ],
   "source": [
    "def Modellaufbau_Borehole_GeotechnicalStratum(model):\n",
    "    \"\"\"\n",
    "    Beschreibung:\n",
    "        Ein IfcBorehole dient als Container für verschiedene IfcGeotechnicalStratum. IfcBorehole beschreibt die Bohrung als ganzes, wohin IfcGeotechnicalStratum zur Repräsentation von Ansprachebereichen verwendet wird.\n",
    "    Anweisung:\n",
    "        Der Modellaufbau ist durch den Fachplaner für Geotechnik sicherzustellen.\n",
    "    \"\"\"\n",
    "\n",
    "    # Filtern der Elemente\n",
    "    elems = model.by_type(\"IfcGeotechnicalStratum\")\n",
    "    elems = [i for i in elems if i.ObjectType == \"ANSPRACHEBEREICH\"]\n",
    "    \n",
    "    # Alternativ unter Nutzung der Query Syntax\n",
    "    elems = ifcopenshell.util.selector.filter_elements(model, \"IfcGeotechnicalStratum, ObjectType=ANSPRACHEBEREICH\")\n",
    "\n",
    "    # Für jedes Element: Prüfen der Anforderung\n",
    "    passed, failed = [], []\n",
    "    for elem in elems:\n",
    "        if not elem.Decomposes:\n",
    "            failed.append(elem)\n",
    "            continue\n",
    "        if any((i.RelatingObject.is_a(\"IfcBorehole\") and i.is_a(\"IfcRelAggregates\")) for i in elem.Decomposes): # Hinweis: Hier muss minndestens eine der IfcRelAggregates auf ein IfcBorehole verweisen. Wenn es genau eins sein soll, dann len(elem.Decomposes) == 1 und elem.Decomposes[0] testen\n",
    "            passed.append(elem)\n",
    "        else:\n",
    "            failed.append(elem)\n",
    "    \n",
    "    print(f\"{len(passed)} Elemente haben bestanden, {len(failed)} sind durchgefallen.\")\n",
    "    if failed:\n",
    "        print(f\"Durchgefallen sind:\\n\")\n",
    "        for i in failed:\n",
    "            print(f\"\\t{failed}\")\n",
    "\n",
    "    return passed, failed\n",
    "\n",
    "Modellaufbau_Borehole_GeotechnicalStratum(model)    \n",
    "pass"
   ]
  },
  {
   "cell_type": "code",
   "execution_count": 4,
   "metadata": {},
   "outputs": [],
   "source": [
    "def WerteBereich_Kohaesion(model, min_val=0, max_val=1_000):\n",
    "    \"\"\"\n",
    "    Prüft, ob die Eigenschaft CohesionBehaviour im Pset_SolidStratumCapacity in einem Wertebereich liegt\n",
    "    \"\"\"\n",
    "    # Filtern der Elemente\n",
    "    # Hinweis: IfcSimpleProperties können auf mehrere Arten beschrieben werden, die am häufigst verwendete ist IfcPropertySingleValue\n",
    "    elems = model.by_type(\"IfcSimpleProperty\")\n",
    "    #elems = model.by_type(\"IfcPropertySingleValue\") + model.by_type(\"IfcPropertyBoundedValue\") + model.by_type(\"IfcPropertyEnumeratedValue\") + model.by_type(\"IfcPropertyListValue\") + model.by_type(\"IfcPropertyReferenceValue\") + model.by_type(\"IfcPropertyTableValue\")\n",
    "\n",
    "    elems = [i for i in elems if i.Name==\"CohesionBehaviour\"]\n",
    "    elems = [i for i in elems if any(j.Name==\"Pset_SolidStratumCapacity\" for j in i.PartOfPset)]\n",
    "\n",
    "    # Für jedes Element: Prüfen der Anforderung\n",
    "    passed, failed = [], []\n",
    "    for elem in elems:\n",
    "        value = elem.NominalValue.wrappedValue\n",
    "        if value>=min_val and value<=max_val: # Hinweis: Im IDS Beispiel werden die beiden Tests gesondert gelistet.\n",
    "            passed.append(elem)\n",
    "        else:\n",
    "            failed.append(elem)\n",
    "\n",
    "    #    print(elem.NominalValue, elem.Unit)\n",
    "    #    print(elem.HasConstraints)\n",
    "    #print(dir(elem.NominalValue))\n",
    "    #print(elem.NominalValue.wrappedValue)\n",
    "\n",
    "\n",
    "WerteBereich_Kohaesion(model)\n"
   ]
  },
  {
   "cell_type": "code",
   "execution_count": 5,
   "metadata": {},
   "outputs": [],
   "source": [
    "# Each IfcBorehole shall have the Pset_BoreholeCommon\n",
    "elems = model.by_type(\"IfcBorehole\")\n",
    "passed, failed = [], []\n",
    "for elem in elems:\n",
    "    psets = ifcopenshell.util.element.get_psets(elem)\n",
    "    if \"Pset_BoreholeCommon\" in ifcopenshell.util.element.get_psets(elem).keys():\n",
    "        passed.append(elem)\n",
    "    else:\n",
    "        failed.append(elem)"
   ]
  },
  {
   "cell_type": "code",
   "execution_count": 6,
   "metadata": {},
   "outputs": [
    {
     "name": "stdout",
     "output_type": "stream",
     "text": [
      "The Borehole bh_001 is located in Baustelle_Fachsektionstage, #13=IfcSite('06nPK_NG90ew36yl3nhkcF',$,'Baustelle_Fachsektionstage',$,$,$,$,$,$,$,$,$,$,$)\n",
      "The Borehole bh_002 is located in Baustelle_Fachsektionstage, #13=IfcSite('06nPK_NG90ew36yl3nhkcF',$,'Baustelle_Fachsektionstage',$,$,$,$,$,$,$,$,$,$,$)\n",
      "The Borehole bh_003 is located in Baustelle_Fachsektionstage, #13=IfcSite('06nPK_NG90ew36yl3nhkcF',$,'Baustelle_Fachsektionstage',$,$,$,$,$,$,$,$,$,$,$)\n",
      "The Borehole bh_004 is located in Baustelle_Fachsektionstage, #13=IfcSite('06nPK_NG90ew36yl3nhkcF',$,'Baustelle_Fachsektionstage',$,$,$,$,$,$,$,$,$,$,$)\n",
      "The Borehole bh_005 is located in Baustelle_Fachsektionstage, #13=IfcSite('06nPK_NG90ew36yl3nhkcF',$,'Baustelle_Fachsektionstage',$,$,$,$,$,$,$,$,$,$,$)\n",
      "No container for wrong_borehole_name\n",
      "No container for wrong_borehole_name\n"
     ]
    }
   ],
   "source": [
    "# Get the containers for each IfcBorehole\n",
    "elems = model.by_type(\"IfcBorehole\")\n",
    "passed, failed = [], []\n",
    "for elem in elems:\n",
    "    container = ifcopenshell.util.element.get_container(elem)\n",
    "    if container:\n",
    "        print(f\"The Borehole {elem.Name} is located in {container.Name}, {container}\")\n",
    "    else:\n",
    "        print(f\"No container for {elem.Name}\")"
   ]
  },
  {
   "cell_type": "code",
   "execution_count": 7,
   "metadata": {},
   "outputs": [],
   "source": [
    "# Check naming convention\n",
    "elems = model.by_type(\"IfcBorehole\")\n",
    "passed, failed = [], []\n",
    "for elem in elems:\n",
    "    if re.match( r'^bh_\\d{3}$', elem.Name):\n",
    "        passed.append(elem)\n",
    "    else:\n",
    "        failed.append(elem)"
   ]
  },
  {
   "cell_type": "code",
   "execution_count": 8,
   "metadata": {},
   "outputs": [],
   "source": [
    "# Unique Names\n",
    "elems =model.by_type(\"IfcBorehole\")\n",
    "counter = Counter([i.Name for i in model.by_type(\"IfcBorehole\")])\n",
    "passed, failed = [], []\n",
    "for elem in elems:\n",
    "    if counter[elem.Name]==1:\n",
    "        passed.append(elem.Name)\n",
    "    else:\n",
    "        failed.append(elem.Name)"
   ]
  },
  {
   "cell_type": "code",
   "execution_count": null,
   "metadata": {},
   "outputs": [
    {
     "name": "stdout",
     "output_type": "stream",
     "text": [
      "['A wrong name', 'wrong_borehole_name_xy']\n"
     ]
    }
   ],
   "source": [
    "# Naming convention Ansprachebereiche\n",
    "elems =model.by_type(\"IfcGeotechnicalStratum\")\n",
    "elems = [i for i in elems if i.ObjectType==\"ANSPRACHEBEREICH\"]\n",
    "passed, failed = [], []\n",
    "for elem in elems:\n",
    "    name = elem.Name\n",
    "    if not elem.Decomposes:\n",
    "        failed.append(elem)\n",
    "        continue\n",
    "    if not any((i.RelatingObject.is_a(\"IfcBorehole\") and i.is_a(\"IfcRelAggregates\")) for i in elem.Decomposes):\n",
    "        failed.append(elem)\n",
    "        continue\n",
    "    for i in elem.Decomposes:\n",
    "        if (i.RelatingObject.is_a(\"IfcBorehole\") and i.is_a(\"IfcRelAggregates\")):\n",
    "            bh_name = i.RelatingObject.Name\n",
    "            if re.match(fr'^{re.escape(bh_name)}_\\d{{3}}$', elem.Name):\n",
    "                passed.append(elem)\n",
    "            else:\n",
    "                failed.append(elem)\n",
    "            break"
   ]
  },
  {
   "cell_type": "code",
   "execution_count": null,
   "metadata": {},
   "outputs": [
    {
     "name": "stdout",
     "output_type": "stream",
     "text": [
      "(0.0, 0.0, 4.0)\n",
      "(0.0, 0.0, 3.0)\n",
      "(0.0, 0.0, 5.0)\n",
      "(50.0, 0.0, 2.0)\n",
      "(50.0, 0.0, 3.0)\n",
      "(50.0, 0.0, 0.0)\n",
      "(25.0, 50.0, 6.0)\n",
      "(25.0, 50.0, 3.0)\n",
      "(25.0, 50.0, 5.0)\n",
      "(55.0, 100.0, 4.5)\n",
      "(55.0, 100.0, 6.0)\n",
      "(55.0, 100.0, 5.0)\n",
      "(5.0, 80.0, 6.0)\n",
      "(5.0, 80.0, 5.0)\n",
      "(5.0, 80.0, 4.5)\n",
      "['DirectionRatios', 'LayerAssignment', 'StyledByItem', '__annotations__', '__class__', '__del__', '__delattr__', '__dict__', '__dir__', '__doc__', '__eq__', '__format__', '__ge__', '__getattr__', '__getattribute__', '__getitem__', '__getstate__', '__gt__', '__hash__', '__init__', '__init_subclass__', '__le__', '__len__', '__lt__', '__module__', '__ne__', '__new__', '__reduce__', '__reduce_ex__', '__repr__', '__rge__', '__rgt__', '__rle__', '__rlt__', '__setattr__', '__setitem__', '__sizeof__', '__str__', '__subclasshook__', '__weakref__', 'attribute_name', 'attribute_type', 'compare', 'file', 'get_info', 'get_info_2', 'id', 'is_a', 'is_entity', 'to_string', 'unwrap_value', 'walk', 'wrap_value']\n"
     ]
    },
    {
     "data": {
      "text/plain": [
       "2.5"
      ]
     },
     "execution_count": 116,
     "metadata": {},
     "output_type": "execute_result"
    }
   ],
   "source": [
    "# Check distances of boreholes\n",
    "elems =model.by_type(\"IfcBorehole\")\n",
    "\n",
    "for i in elems:\n",
    "    parts =  i.IsDecomposedBy\n",
    "    if not parts:\n",
    "        continue\n",
    "    for j in parts:\n",
    "        stratums = j.RelatedObjects\n",
    "        for k in stratums:\n",
    "            placement = k.ObjectPlacement\n",
    "            rel_to = placement.PlacementRelTo\n",
    "            #print(placement.PlacementRelTo)\n",
    "            #print(placement.RelativePlacement.Location.Coordinates)\n",
    "            \n",
    "            c1 = placement.PlacementRelTo.RelativePlacement.Location.Coordinates\n",
    "            c2 = placement.RelativePlacement.Location.Coordinates\n",
    "            c3 = (c1[0]+c2[0], c1[1]+c2[1], c1[2]+c2[2])  # das sind die unterkanten\n",
    "            \n",
    "\n",
    "            representations = k.Representation.Representations\n",
    "            representation = [i for i in representations if i.ContextOfItems.ContextIdentifier==\"Body\"][0]\n",
    "            # The geometry of a borehole thing only consists \n",
    "            if len(representation.Items)!=1:\n",
    "                raise ValueError(f\"To many geometries assigned. Expected 1, got {len(representation.Items)}\")\n",
    "            geom = representation.Items[0]\n",
    "            \n",
    "            c4 = (c3[0] + geom.ExtrudedDirection.DirectionRatios[0] * geom.Depth,\n",
    "                  c3[1] + geom.ExtrudedDirection.DirectionRatios[1] * geom.Depth,\n",
    "                  c3[2] + geom.ExtrudedDirection.DirectionRatios[2] * geom.Depth)\n",
    "            print(c4) # Das nun endlich die oberkanten.\n",
    "            \n",
    "            # We know that it is a swept solid\n",
    "            if not geom.is_a(\"IfcExtrudedAreaSolid\"):\n",
    "                raise ValueError(f\"Expected an IfcExtrudedAreaSolid\")\n",
    "            position = geom.Position.Location.Coordinates\n",
    "\n",
    "\n",
    "            \n",
    "print(dir(geom.ExtrudedDirection))\n",
    "geom.Depth"
   ]
  }
 ],
 "metadata": {
  "kernelspec": {
   "display_name": "blender_42_env",
   "language": "python",
   "name": "python3"
  },
  "language_info": {
   "codemirror_mode": {
    "name": "ipython",
    "version": 3
   },
   "file_extension": ".py",
   "mimetype": "text/x-python",
   "name": "python",
   "nbconvert_exporter": "python",
   "pygments_lexer": "ipython3",
   "version": "3.11.7"
  }
 },
 "nbformat": 4,
 "nbformat_minor": 2
}
