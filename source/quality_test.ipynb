{
 "cells": [
  {
   "cell_type": "markdown",
   "metadata": {},
   "source": [
    "Tests for the file written in pythpn"
   ]
  },
  {
   "cell_type": "code",
   "execution_count": 2,
   "metadata": {},
   "outputs": [],
   "source": [
    "import ifcopenshell\n",
    "from ifcopenshell.api import run\n",
    "import ifcopenshell.util.element\n",
    "import ifcopenshell.util.selector"
   ]
  },
  {
   "cell_type": "code",
   "execution_count": 4,
   "metadata": {},
   "outputs": [],
   "source": [
    "model = ifcopenshell.open(\"../project_data/script_output_4x3.ifc\")"
   ]
  },
  {
   "cell_type": "code",
   "execution_count": 20,
   "metadata": {},
   "outputs": [
    {
     "name": "stdout",
     "output_type": "stream",
     "text": [
      "15 Elemente haben bestanden, 0 sind durchgefallen.\n"
     ]
    }
   ],
   "source": [
    "def Modellaufbau_Borehole_GeotechnicalStratum(model):\n",
    "    \"\"\"\n",
    "    Beschreibung:\n",
    "        Ein IfcBorehole dient als Container für verschiedene IfcGeotechnicalStratum. IfcBorehole beschreibt die Bohrung als ganzes, wohin IfcGeotechnicalStratum zur Repräsentation von Ansprachebereichen verwendet wird.\n",
    "    Anweisung:\n",
    "        Der Modellaufbau ist durch den Fachplaner für Geotechnik sicherzustellen.\n",
    "    \"\"\"\n",
    "\n",
    "    # Filtern der Elemente\n",
    "    elems = model.by_type(\"IfcGeotechnicalStratum\")\n",
    "    elems = [i for i in elems if i.ObjectType == \"ANSPRACHEBEREICH\"]\n",
    "    \n",
    "    # Alternativ unter Nutzung der Query Syntax\n",
    "    elems = ifcopenshell.util.selector.filter_elements(model, \"IfcGeotechnicalStratum, ObjectType=ANSPRACHEBEREICH\")\n",
    "\n",
    "    # Für jedes Element: Prüfen der Anforderung\n",
    "    passed, failed = [], []\n",
    "    for elem in elems:\n",
    "        if not elem.Decomposes:\n",
    "            failed.append(elem)\n",
    "            continue\n",
    "        if any((i.RelatingObject.is_a(\"IfcBorehole\") and i.is_a(\"IfcRelAggregates\")) for i in elem.Decomposes): # Hinweis: Hier muss minndestens eine der IfcRelAggregates auf ein IfcBorehole verweisen. Wenn es genau eins sein soll, dann len(elem.Decomposes) == 1 und elem.Decomposes[0] testen\n",
    "            passed.append(elem)\n",
    "        else:\n",
    "            failed.append(elem)\n",
    "    \n",
    "    print(f\"{len(passed)} Elemente haben bestanden, {len(failed)} sind durchgefallen.\")\n",
    "\n",
    "Modellaufbau_Borehole_GeotechnicalStratum(model)    \n"
   ]
  },
  {
   "cell_type": "code",
   "execution_count": null,
   "metadata": {},
   "outputs": [
    {
     "name": "stdout",
     "output_type": "stream",
     "text": [
      "IfcPressureMeasure(0.) None\n",
      "()\n",
      "IfcPressureMeasure(5.) None\n",
      "()\n",
      "IfcPressureMeasure(10000.) None\n",
      "()\n",
      "['__annotations__', '__class__', '__del__', '__delattr__', '__dict__', '__dir__', '__doc__', '__eq__', '__format__', '__ge__', '__getattr__', '__getattribute__', '__getitem__', '__getstate__', '__gt__', '__hash__', '__init__', '__init_subclass__', '__le__', '__len__', '__lt__', '__module__', '__ne__', '__new__', '__reduce__', '__reduce_ex__', '__repr__', '__rge__', '__rgt__', '__rle__', '__rlt__', '__setattr__', '__setitem__', '__sizeof__', '__str__', '__subclasshook__', '__weakref__', 'attribute_name', 'attribute_type', 'compare', 'file', 'get_info', 'get_info_2', 'id', 'is_a', 'is_entity', 'to_string', 'unwrap_value', 'walk', 'wrap_value', 'wrappedValue']\n",
      "10000.0\n"
     ]
    }
   ],
   "source": [
    "def WerteBereich_Kohaesion(model, min_val=0, max_val=1_000):\n",
    "    \"\"\"\n",
    "    Prüft, ob die Eigenschaft CohesionBehaviour im Pset_SolidStratumCapacity in einem Wertebereich liegt\n",
    "    \"\"\"\n",
    "    # Filtern der Elemente\n",
    "    # Hinweis: IfcSimpleProperties können auf mehrere Arten beschrieben werden, die am häufigst verwendete ist IfcPropertySingleValue\n",
    "    elems = model.by_type(\"IfcSimpleProperty\")\n",
    "    #elems = model.by_type(\"IfcPropertySingleValue\") + model.by_type(\"IfcPropertyBoundedValue\") + model.by_type(\"IfcPropertyEnumeratedValue\") + model.by_type(\"IfcPropertyListValue\") + model.by_type(\"IfcPropertyReferenceValue\") + model.by_type(\"IfcPropertyTableValue\")\n",
    "\n",
    "    elems = [i for i in elems if i.Name==\"CohesionBehaviour\"]\n",
    "    elems = [i for i in elems if any(j.Name==\"Pset_SolidStratumCapacity\" for j in i.PartOfPset)]\n",
    "\n",
    "    # Für jedes Element: Prüfen der Anforderung\n",
    "    passed, failed = [], []\n",
    "    for elem in elems:\n",
    "        value = elem.NominalValue.wrappedValue\n",
    "        if value>=min_val and value<=max_val: # Hinweis: Im IDS Beispiel werden die beiden Tests gesondert gelistet.\n",
    "            passed.append(elem)\n",
    "        else:\n",
    "            failed.append(elem)\n",
    "\n",
    "    #    print(elem.NominalValue, elem.Unit)\n",
    "    #    print(elem.HasConstraints)\n",
    "    #print(dir(elem.NominalValue))\n",
    "    #print(elem.NominalValue.wrappedValue)\n",
    "\n",
    "\n",
    "WerteBereich_Kohaesion(model)\n"
   ]
  }
 ],
 "metadata": {
  "kernelspec": {
   "display_name": "blender_42_env",
   "language": "python",
   "name": "python3"
  },
  "language_info": {
   "codemirror_mode": {
    "name": "ipython",
    "version": 3
   },
   "file_extension": ".py",
   "mimetype": "text/x-python",
   "name": "python",
   "nbconvert_exporter": "python",
   "pygments_lexer": "ipython3",
   "version": "3.11.7"
  }
 },
 "nbformat": 4,
 "nbformat_minor": 2
}
