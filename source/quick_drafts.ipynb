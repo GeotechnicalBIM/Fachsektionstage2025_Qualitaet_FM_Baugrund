{
 "cells": [
  {
   "cell_type": "code",
   "execution_count": 1,
   "metadata": {},
   "outputs": [],
   "source": [
    "import json\n",
    "import ifcopenshell\n",
    "from ifcopenshell.api import run\n",
    "import ifcopenshell.util.element\n",
    "import ifcopenshell.api.unit"
   ]
  },
  {
   "cell_type": "code",
   "execution_count": 2,
   "metadata": {},
   "outputs": [],
   "source": [
    "model = ifcopenshell.open(\"../project_data/script_output_4x3.ifc\")"
   ]
  },
  {
   "cell_type": "code",
   "execution_count": 3,
   "metadata": {},
   "outputs": [
    {
     "name": "stdout",
     "output_type": "stream",
     "text": [
      "The borehole bh_001 is located in Baustelle_Fachsektionstage\n",
      "The borehole bh_002 is located in Baustelle_Fachsektionstage\n",
      "The borehole bh_003 is located in Baustelle_Fachsektionstage\n",
      "The borehole bh_004 is located in Baustelle_Fachsektionstage\n",
      "The borehole bh_005 is located in Baustelle_Fachsektionstage\n"
     ]
    }
   ],
   "source": [
    "# Get the containers for each IfcBorehole\n",
    "bhs = model.by_type(\"IfcBorehole\")\n",
    "for bh in bhs:\n",
    "    container = ifcopenshell.util.element.get_container(bh)\n",
    "    print(f\"The borehole {bh.Name} is located in {container.Name}\")"
   ]
  },
  {
   "cell_type": "code",
   "execution_count": 4,
   "metadata": {},
   "outputs": [
    {
     "data": {
      "text/plain": [
       "['Any',\n",
       " 'Callable',\n",
       " 'Literal',\n",
       " 'MATERIAL_TYPE',\n",
       " 'Optional',\n",
       " 'REFERENCE_TYPES',\n",
       " 'ReferenceData',\n",
       " 'Union',\n",
       " '__annotations__',\n",
       " '__builtins__',\n",
       " '__cached__',\n",
       " '__doc__',\n",
       " '__file__',\n",
       " '__loader__',\n",
       " '__name__',\n",
       " '__package__',\n",
       " '__spec__',\n",
       " 'batch_remove_deep2',\n",
       " 'copy',\n",
       " 'copy_deep',\n",
       " 'get_aggregate',\n",
       " 'get_components',\n",
       " 'get_contained',\n",
       " 'get_container',\n",
       " 'get_decomposition',\n",
       " 'get_elements_by_layer',\n",
       " 'get_elements_by_material',\n",
       " 'get_elements_by_representation',\n",
       " 'get_elements_by_style',\n",
       " 'get_filled_void',\n",
       " 'get_grouped_by',\n",
       " 'get_groups',\n",
       " 'get_layers',\n",
       " 'get_material',\n",
       " 'get_materials',\n",
       " 'get_nest',\n",
       " 'get_parent',\n",
       " 'get_parts',\n",
       " 'get_predefined_type',\n",
       " 'get_properties',\n",
       " 'get_property',\n",
       " 'get_property_definition',\n",
       " 'get_pset',\n",
       " 'get_psets',\n",
       " 'get_quantities',\n",
       " 'get_quantity',\n",
       " 'get_referenced_elements',\n",
       " 'get_referenced_structures',\n",
       " 'get_shape_aspects',\n",
       " 'get_structure_referenced_elements',\n",
       " 'get_styles',\n",
       " 'get_type',\n",
       " 'get_types',\n",
       " 'get_voided_element',\n",
       " 'has_element_reference',\n",
       " 'ifcopenshell',\n",
       " 'namedtuple',\n",
       " 'overload',\n",
       " 'remove_deep',\n",
       " 'remove_deep2',\n",
       " 'replace_attribute',\n",
       " 'unbatch_remove_deep2']"
      ]
     },
     "execution_count": 4,
     "metadata": {},
     "output_type": "execute_result"
    }
   ],
   "source": [
    "dir(ifcopenshell.util.element)"
   ]
  },
  {
   "cell_type": "code",
   "execution_count": 5,
   "metadata": {},
   "outputs": [
    {
     "name": "stdout",
     "output_type": "stream",
     "text": [
      "The Stratum bh_001_000 is located in Baustelle_Fachsektionstage\n",
      "The Stratum bh_001_001 is located in Baustelle_Fachsektionstage\n",
      "The Stratum bh_001_002 is located in Baustelle_Fachsektionstage\n",
      "The Stratum bh_002_000 is located in Baustelle_Fachsektionstage\n",
      "The Stratum bh_002_001 is located in Baustelle_Fachsektionstage\n",
      "The Stratum bh_002_002 is located in Baustelle_Fachsektionstage\n",
      "The Stratum bh_003_000 is located in Baustelle_Fachsektionstage\n",
      "The Stratum bh_003_001 is located in Baustelle_Fachsektionstage\n",
      "The Stratum bh_003_002 is located in Baustelle_Fachsektionstage\n",
      "The Stratum bh_004_000 is located in Baustelle_Fachsektionstage\n",
      "The Stratum bh_004_001 is located in Baustelle_Fachsektionstage\n",
      "The Stratum bh_004_002 is located in Baustelle_Fachsektionstage\n",
      "The Stratum bh_005_000 is located in Baustelle_Fachsektionstage\n",
      "The Stratum bh_005_001 is located in Baustelle_Fachsektionstage\n",
      "The Stratum bh_005_002 is located in Baustelle_Fachsektionstage\n",
      "The Stratum S is located in Baustelle_Fachsektionstage\n",
      "The Stratum A is located in Baustelle_Fachsektionstage\n",
      "The Stratum G is located in Baustelle_Fachsektionstage\n"
     ]
    }
   ],
   "source": [
    "# Get the containers for each IfcBorehole\n",
    "stratums = model.by_type(\"IfcGeotechnicalStratum\")\n",
    "for i in stratums:\n",
    "    container = ifcopenshell.util.element.get_container(i)\n",
    "    if container:\n",
    "        print(f\"The Stratum {i.Name} is located in {container.Name}\")\n",
    "    else:\n",
    "        print(f\"No container for {i.Name}\")"
   ]
  },
  {
   "cell_type": "code",
   "execution_count": 6,
   "metadata": {},
   "outputs": [
    {
     "name": "stdout",
     "output_type": "stream",
     "text": [
      "The predifend type of the first stratum is USERDEFINED its object type is: ANSPRACHEBEREICH\n"
     ]
    }
   ],
   "source": [
    "dir(stratums[0])\n",
    "print(\"The predifend type of the first stratum is\", stratums[0].PredefinedType, \"its object type is:\", stratums[0].ObjectType)"
   ]
  },
  {
   "cell_type": "code",
   "execution_count": 7,
   "metadata": {},
   "outputs": [
    {
     "data": {
      "text/plain": [
       "'A volume representing a subsoil layer.'"
      ]
     },
     "execution_count": 7,
     "metadata": {},
     "output_type": "execute_result"
    }
   ],
   "source": [
    "i.Description"
   ]
  },
  {
   "cell_type": "code",
   "execution_count": 15,
   "metadata": {},
   "outputs": [
    {
     "name": "stdout",
     "output_type": "stream",
     "text": [
      "#71057=IfcPropertySingleValue('LowerBound',$,IfcMassDensityMeasure(0.),$)\n",
      "#71058=IfcPropertySingleValue('UpperBound',$,IfcMassDensityMeasure(10.),$)\n",
      "#71059=IfcPropertySingleValue('ActualValue',$,IfcMassDensityMeasure(9.),$)\n",
      "#71061=IfcPropertySingleValue('Some Property Set Name ','Some Property  Name',IfcText('Some Value'),$) \n",
      " #71060=IfcPropertyBoundedValue('TestProperty',$,#71058,#71057,$,#71059)\n"
     ]
    },
    {
     "data": {
      "text/plain": [
       "(#71046=IfcPropertySingleValue('Wichte',$,IfcMassDensityMeasure(19000.),$),\n",
       " #71047=IfcPropertySingleValue('IsFun',$,IfcBoolean(.T.),$))"
      ]
     },
     "execution_count": 15,
     "metadata": {},
     "output_type": "execute_result"
    }
   ],
   "source": [
    "pset = model.by_type(\"IfcPropertySet\")[-1]\n",
    "b1 = model.create_entity(\"IfcPropertySingleValue\", Name=\"LowerBound\", NominalValue= model.create_entity(\"IfcMassDensityMeasure\", 0))\n",
    "b2 = model.create_entity(\"IfcPropertySingleValue\", Name=\"UpperBound\", NominalValue= model.create_entity(\"IfcMassDensityMeasure\", 10.))\n",
    "val = model.create_entity(\"IfcPropertySingleValue\", Name=\"ActualValue\", NominalValue= model.create_entity(\"IfcMassDensityMeasure\", 9))\n",
    "boundedval = model.create_entity(\"IfcPropertyBoundedValue\", Name=\"TestProperty\", LowerBoundValue=b1, UpperBoundValue=b2)\n",
    "boundedval.SetPointValue = val\n",
    "\n",
    "second_prop = model.createIfcPropertySingleValue(\"Some Property Set Name \", \"Some Property  Name\", model.create_entity(\"IfcText\", \"Some Value\"), None)\n",
    "print(b1)\n",
    "print(b2)\n",
    "print(val)\n",
    "print(second_prop, \"\\n\", boundedval)\n",
    "pset.HasProperties\n"
   ]
  },
  {
   "cell_type": "code",
   "execution_count": 9,
   "metadata": {},
   "outputs": [
    {
     "name": "stdout",
     "output_type": "stream",
     "text": [
      "#70976=IfcSIUnit(*,.PLANEANGLEUNIT.,$,.RADIAN.)\n",
      "#70977=IfcMeasureWithUnit(IfcPlaneAngleMeasure(0.0174532925199433),#70976)\n",
      "#70978=IfcDimensionalExponents(0,0,0,0,0,0,0)\n",
      "#70979=IfcConversionBasedUnit(#70978,.PLANEANGLEUNIT.,'Degree',#70977) ['ConversionFactor', 'Dimensions', 'HasExternalReference', 'Name', 'UnitType', '__annotations__', '__class__', '__del__', '__delattr__', '__dict__', '__dir__', '__doc__', '__eq__', '__format__', '__ge__', '__getattr__', '__getattribute__', '__getitem__', '__getstate__', '__gt__', '__hash__', '__init__', '__init_subclass__', '__le__', '__len__', '__lt__', '__module__', '__ne__', '__new__', '__reduce__', '__reduce_ex__', '__repr__', '__rge__', '__rgt__', '__rle__', '__rlt__', '__setattr__', '__setitem__', '__sizeof__', '__str__', '__subclasshook__', '__weakref__', 'attribute_name', 'attribute_type', 'compare', 'file', 'get_info', 'get_info_2', 'id', 'is_a', 'is_entity', 'to_string', 'unwrap_value', 'walk', 'wrap_value']\n"
     ]
    }
   ],
   "source": [
    "angle_unit = ifcopenshell.api.unit.add_si_unit(model, unit_type=\"PLANEANGLEUNIT\",) #RADIAN\n",
    "val = model.create_entity(\"IFCPLANEANGLEMEASURE\", 1.74532925199433E-2)\n",
    "measure_unit = model.create_entity(\"IFCMEASUREWITHUNIT\", UnitComponent=angle_unit, ValueComponent=val)\n",
    "dim_exp = model.create_entity(\"IFCDIMENSIONALEXPONENTS\", 0,0,0,0,0,0,0)\n",
    "conv = model.create_entity(\"IFCCONVERSIONBASEDUNIT\", ConversionFactor=measure_unit, Name=\"Degree\", UnitType=\"PLANEANGLEUNIT\", Dimensions=dim_exp)\n",
    "\n",
    "\n",
    "print(angle_unit)\n",
    "print(measure_unit)\n",
    "print(dim_exp)\n",
    "\n",
    "print(conv, dir(conv))\n",
    "# Reference from a sample IFC File\n",
    "\"\"\"\n",
    "#9 = IFCSIUNIT(*, .PLANEANGLEUNIT., $, .RADIAN.);\n",
    "#10 = IFCMEASUREWITHUNIT(IFCPLANEANGLEMEASURE(1.74532925199433E-2), #9);\n",
    "#11 = IFCDIMENSIONALEXPONENTS(0, 0, 0, 0, 0, 0, 0);\n",
    "#12 = IFCCONVERSIONBASEDUNIT(#11, .PLANEANGLEUNIT., 'DEGREE', #10);\n",
    "\"\"\"\n",
    "pass"
   ]
  },
  {
   "cell_type": "code",
   "execution_count": 10,
   "metadata": {},
   "outputs": [
    {
     "name": "stdout",
     "output_type": "stream",
     "text": [
      "#70984=IfcDerivedUnit((#70982,#70983),.MASSDENSITYUNIT.,$,'kg_per_m3') ['Elements', 'Name', 'UnitType', 'UserDefinedType', '__annotations__', '__class__', '__del__', '__delattr__', '__dict__', '__dir__', '__doc__', '__eq__', '__format__', '__ge__', '__getattr__', '__getattribute__', '__getitem__', '__getstate__', '__gt__', '__hash__', '__init__', '__init_subclass__', '__le__', '__len__', '__lt__', '__module__', '__ne__', '__new__', '__reduce__', '__reduce_ex__', '__repr__', '__rge__', '__rgt__', '__rle__', '__rlt__', '__setattr__', '__setitem__', '__sizeof__', '__str__', '__subclasshook__', '__weakref__', 'attribute_name', 'attribute_type', 'compare', 'file', 'get_info', 'get_info_2', 'id', 'is_a', 'is_entity', 'to_string', 'unwrap_value', 'walk', 'wrap_value']\n"
     ]
    }
   ],
   "source": [
    "# Add a derived unit\n",
    "# let it be be kg/m*3\n",
    "import ifcopenshell.api.pset_template\n",
    "import ifcopenshell.api.pset\n",
    "\n",
    "length_unit = ifcopenshell.api.unit.add_si_unit(model, unit_type=\"LENGTHUNIT\")\n",
    "mass_unit =  ifcopenshell.api.unit.add_si_unit(model, unit_type=\"MASSUNIT\", prefix=\"KILO\")\n",
    "kg = model.create_entity(\"IFCDERIVEDUNITELEMENT\",mass_unit,1)\n",
    "m3 = model.create_entity(\"IFCDERIVEDUNITELEMENT\",length_unit,3)\n",
    "kg_per_m3 = model.create_entity(\"IFCDERIVEDUNIT\", Elements = [kg,m3], UnitType=\"MASSDENSITYUNIT\", Name=\"kg_per_m3\")\n",
    "print(kg_per_m3, dir(kg_per_m3))\n",
    "\n",
    "\n",
    "# Example for cd⋅s3⋅kg−1⋅m−2 (From a Revit Export)\n",
    "\n",
    "#19=IFCSIUNIT(*,.LENGTHUNIT.,$,.METRE.);\n",
    "#26=IFCSIUNIT(*,.MASSUNIT.,.KILO.,.GRAM.);\n",
    "#33=IFCSIUNIT(*,.TIMEUNIT.,$,.SECOND.);\n",
    "#53=IFCSIUNIT(*,.LUMINOUSFLUXUNIT.,$,.LUMEN.);\n",
    "#55=IFCDERIVEDUNITELEMENT(#26,-1);\n",
    "#56=IFCDERIVEDUNITELEMENT(#19,-2);\n",
    "#57=IFCDERIVEDUNITELEMENT(#33,3);\n",
    "#58=IFCDERIVEDUNITELEMENT(#53,1);\n",
    "#59=IFCDERIVEDUNIT((#55,#56,#57,#58),.USERDEFINED.,'Luminous Efficacy');\n",
    "\n",
    "# Add custom properties using a custom property template\n",
    "template = ifcopenshell.api.pset_template.add_pset_template(model, name=\"Fachsektionstage2025_template\")\n",
    "prop1 = ifcopenshell.api.pset_template.add_prop_template(model, pset_template=template, name=\"Wichte\", description=\"Feuchtwichte des Bodens\", template_type=\"P_SINGLEVALUE\", primary_measure_type=\"IfcMassDensityMeasure\") #kg/m3\n",
    "prop1.PrimaryUnit = kg_per_m3\n",
    "\n",
    "prop1 = ifcopenshell.api.pset_template.add_prop_template(model, pset_template=template, name=\"WichteBounded\", description=\"Feuchtwichte des Bodens\", template_type=\"P_BOUNDEDVALUE\", primary_measure_type=\"IfcMassDensityMeasure\") #kg/m3\n",
    "prop1.SecondaryMeasureType=\"IfcMassDensityMeasure\"\n",
    "\n",
    "\n",
    "\n",
    "for p in model.by_type(\"IfcGeotechnicalStratum\"):\n",
    "    pset = ifcopenshell.api.pset.add_pset(model, product=p, name=\"Fachsektionstage2025\")\n",
    "    ifcopenshell.api.pset.edit_pset(model, pset=pset, properties={\"Wichte\": 19_000, \"IsFun\": True}, pset_template=template)"
   ]
  }
 ],
 "metadata": {
  "kernelspec": {
   "display_name": "blender_42_env",
   "language": "python",
   "name": "python3"
  },
  "language_info": {
   "codemirror_mode": {
    "name": "ipython",
    "version": 3
   },
   "file_extension": ".py",
   "mimetype": "text/x-python",
   "name": "python",
   "nbconvert_exporter": "python",
   "pygments_lexer": "ipython3",
   "version": "3.11.7"
  }
 },
 "nbformat": 4,
 "nbformat_minor": 2
}
