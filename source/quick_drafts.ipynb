{
 "cells": [
  {
   "cell_type": "code",
   "execution_count": 24,
   "metadata": {},
   "outputs": [],
   "source": [
    "import json\n",
    "import ifcopenshell\n",
    "import ifcopenshell.util.element"
   ]
  },
  {
   "cell_type": "code",
   "execution_count": 25,
   "metadata": {},
   "outputs": [],
   "source": [
    "model = ifcopenshell.open(\"../project_data/script_output_4x3.ifc\")"
   ]
  },
  {
   "cell_type": "code",
   "execution_count": 26,
   "metadata": {},
   "outputs": [
    {
     "name": "stdout",
     "output_type": "stream",
     "text": [
      "The borehole bh01 is located in Baustelle_Fachsektionstage\n",
      "The borehole bh02 is located in Baustelle_Fachsektionstage\n",
      "The borehole bh03 is located in Baustelle_Fachsektionstage\n",
      "The borehole bh04 is located in Baustelle_Fachsektionstage\n",
      "The borehole bh05 is located in Baustelle_Fachsektionstage\n"
     ]
    }
   ],
   "source": [
    "# Get the containers for each IfcBorehole\n",
    "bhs = model.by_type(\"IfcBorehole\")\n",
    "for bh in bhs:\n",
    "    container = ifcopenshell.util.element.get_container(bh)\n",
    "    print(f\"The borehole {bh.Name} is located in {container.Name}\")"
   ]
  },
  {
   "cell_type": "code",
   "execution_count": 27,
   "metadata": {},
   "outputs": [
    {
     "data": {
      "text/plain": [
       "['Any',\n",
       " 'Callable',\n",
       " 'Literal',\n",
       " 'MATERIAL_TYPE',\n",
       " 'Optional',\n",
       " 'REFERENCE_TYPES',\n",
       " 'ReferenceData',\n",
       " 'Union',\n",
       " '__annotations__',\n",
       " '__builtins__',\n",
       " '__cached__',\n",
       " '__doc__',\n",
       " '__file__',\n",
       " '__loader__',\n",
       " '__name__',\n",
       " '__package__',\n",
       " '__spec__',\n",
       " 'batch_remove_deep2',\n",
       " 'copy',\n",
       " 'copy_deep',\n",
       " 'get_aggregate',\n",
       " 'get_components',\n",
       " 'get_contained',\n",
       " 'get_container',\n",
       " 'get_decomposition',\n",
       " 'get_elements_by_layer',\n",
       " 'get_elements_by_material',\n",
       " 'get_elements_by_representation',\n",
       " 'get_elements_by_style',\n",
       " 'get_filled_void',\n",
       " 'get_grouped_by',\n",
       " 'get_groups',\n",
       " 'get_layers',\n",
       " 'get_material',\n",
       " 'get_materials',\n",
       " 'get_nest',\n",
       " 'get_parent',\n",
       " 'get_parts',\n",
       " 'get_predefined_type',\n",
       " 'get_properties',\n",
       " 'get_property',\n",
       " 'get_property_definition',\n",
       " 'get_pset',\n",
       " 'get_psets',\n",
       " 'get_quantities',\n",
       " 'get_quantity',\n",
       " 'get_referenced_elements',\n",
       " 'get_referenced_structures',\n",
       " 'get_shape_aspects',\n",
       " 'get_structure_referenced_elements',\n",
       " 'get_styles',\n",
       " 'get_type',\n",
       " 'get_types',\n",
       " 'get_voided_element',\n",
       " 'has_element_reference',\n",
       " 'ifcopenshell',\n",
       " 'namedtuple',\n",
       " 'overload',\n",
       " 'remove_deep',\n",
       " 'remove_deep2',\n",
       " 'replace_attribute',\n",
       " 'unbatch_remove_deep2']"
      ]
     },
     "execution_count": 27,
     "metadata": {},
     "output_type": "execute_result"
    }
   ],
   "source": [
    "dir(ifcopenshell.util.element)"
   ]
  },
  {
   "cell_type": "code",
   "execution_count": 28,
   "metadata": {},
   "outputs": [
    {
     "name": "stdout",
     "output_type": "stream",
     "text": [
      "The borehole bh01_0 is located in Baustelle_Fachsektionstage\n",
      "The borehole bh01_1 is located in Baustelle_Fachsektionstage\n",
      "The borehole bh01_2 is located in Baustelle_Fachsektionstage\n",
      "The borehole bh02_0 is located in Baustelle_Fachsektionstage\n",
      "The borehole bh02_1 is located in Baustelle_Fachsektionstage\n",
      "The borehole bh02_2 is located in Baustelle_Fachsektionstage\n",
      "The borehole bh03_0 is located in Baustelle_Fachsektionstage\n",
      "The borehole bh03_1 is located in Baustelle_Fachsektionstage\n",
      "The borehole bh03_2 is located in Baustelle_Fachsektionstage\n",
      "The borehole bh04_0 is located in Baustelle_Fachsektionstage\n",
      "The borehole bh04_1 is located in Baustelle_Fachsektionstage\n",
      "The borehole bh04_2 is located in Baustelle_Fachsektionstage\n",
      "The borehole bh05_0 is located in Baustelle_Fachsektionstage\n",
      "The borehole bh05_1 is located in Baustelle_Fachsektionstage\n",
      "The borehole bh05_2 is located in Baustelle_Fachsektionstage\n",
      "The borehole S is located in Baustelle_Fachsektionstage\n",
      "The borehole A is located in Baustelle_Fachsektionstage\n",
      "The borehole G is located in Baustelle_Fachsektionstage\n"
     ]
    }
   ],
   "source": [
    "# Get the containers for each IfcBorehole\n",
    "stratums = model.by_type(\"IfcGeotechnicalStratum\")\n",
    "for i in stratums:\n",
    "    container = ifcopenshell.util.element.get_container(i)\n",
    "    if container:\n",
    "        print(f\"The borehole {i.Name} is located in {container.Name}\")\n",
    "    else:\n",
    "        print(f\"No container for {i.Name}\")"
   ]
  },
  {
   "cell_type": "code",
   "execution_count": 31,
   "metadata": {},
   "outputs": [],
   "source": [
    "i.Description"
   ]
  }
 ],
 "metadata": {
  "kernelspec": {
   "display_name": "blender_42_env",
   "language": "python",
   "name": "python3"
  },
  "language_info": {
   "codemirror_mode": {
    "name": "ipython",
    "version": 3
   },
   "file_extension": ".py",
   "mimetype": "text/x-python",
   "name": "python",
   "nbconvert_exporter": "python",
   "pygments_lexer": "ipython3",
   "version": "3.11.7"
  }
 },
 "nbformat": 4,
 "nbformat_minor": 2
}
