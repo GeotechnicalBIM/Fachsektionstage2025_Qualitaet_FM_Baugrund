{
 "cells": [
  {
   "cell_type": "code",
   "execution_count": 17,
   "metadata": {},
   "outputs": [],
   "source": [
    "import json"
   ]
  },
  {
   "cell_type": "code",
   "execution_count": 18,
   "metadata": {},
   "outputs": [],
   "source": [
    "mapping_hg_to_materialname = {\"A\": \"Auffuellung\", \"G\": \"Kies\", \"S\": \"Sand\"}\n"
   ]
  },
  {
   "cell_type": "code",
   "execution_count": 19,
   "metadata": {},
   "outputs": [],
   "source": [
    "with open(\"../resources/mapping_hg_to_materialname.json\", \"w\", encoding=\"Latin1\") as f:\n",
    "    json.dump(mapping_hg_to_materialname, f)"
   ]
  },
  {
   "cell_type": "code",
   "execution_count": 20,
   "metadata": {},
   "outputs": [
    {
     "data": {
      "text/plain": [
       "{'A': 'Auffuellung', 'G': 'Kies', 'S': 'Sand'}"
      ]
     },
     "execution_count": 20,
     "metadata": {},
     "output_type": "execute_result"
    }
   ],
   "source": [
    "with open(\"../resources/mapping_hg_to_materialname.json\", \"r\", encoding=\"Latin1\") as f:\n",
    "    mapping_hg_to_materialname = json.load(f)\n",
    "mapping_hg_to_materialname"
   ]
  }
 ],
 "metadata": {
  "kernelspec": {
   "display_name": "blender_42_env",
   "language": "python",
   "name": "python3"
  },
  "language_info": {
   "codemirror_mode": {
    "name": "ipython",
    "version": 3
   },
   "file_extension": ".py",
   "mimetype": "text/x-python",
   "name": "python",
   "nbconvert_exporter": "python",
   "pygments_lexer": "ipython3",
   "version": "3.11.7"
  }
 },
 "nbformat": 4,
 "nbformat_minor": 2
}
