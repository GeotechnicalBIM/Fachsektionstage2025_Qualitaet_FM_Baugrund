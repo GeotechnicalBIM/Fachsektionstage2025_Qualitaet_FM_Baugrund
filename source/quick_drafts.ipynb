{
 "cells": [
  {
   "cell_type": "code",
   "execution_count": null,
   "metadata": {},
   "outputs": [],
   "source": [
    "import json\n",
    "import ifcopenshell\n",
    "from ifcopenshell.api import run\n",
    "import ifcopenshell.util.element\n"
   ]
  },
  {
   "cell_type": "code",
   "execution_count": 16,
   "metadata": {},
   "outputs": [],
   "source": [
    "model = ifcopenshell.open(\"../project_data/script_output_4x3.ifc\")"
   ]
  },
  {
   "cell_type": "code",
   "execution_count": 17,
   "metadata": {},
   "outputs": [
    {
     "name": "stdout",
     "output_type": "stream",
     "text": [
      "The borehole bh01 is located in Baustelle_Fachsektionstage\n",
      "The borehole bh02 is located in Baustelle_Fachsektionstage\n",
      "The borehole bh03 is located in Baustelle_Fachsektionstage\n",
      "The borehole bh04 is located in Baustelle_Fachsektionstage\n",
      "The borehole bh05 is located in Baustelle_Fachsektionstage\n"
     ]
    }
   ],
   "source": [
    "# Get the containers for each IfcBorehole\n",
    "bhs = model.by_type(\"IfcBorehole\")\n",
    "for bh in bhs:\n",
    "    container = ifcopenshell.util.element.get_container(bh)\n",
    "    print(f\"The borehole {bh.Name} is located in {container.Name}\")"
   ]
  },
  {
   "cell_type": "code",
   "execution_count": 18,
   "metadata": {},
   "outputs": [
    {
     "data": {
      "text/plain": [
       "['Any',\n",
       " 'Callable',\n",
       " 'Literal',\n",
       " 'MATERIAL_TYPE',\n",
       " 'Optional',\n",
       " 'REFERENCE_TYPES',\n",
       " 'ReferenceData',\n",
       " 'Union',\n",
       " '__annotations__',\n",
       " '__builtins__',\n",
       " '__cached__',\n",
       " '__doc__',\n",
       " '__file__',\n",
       " '__loader__',\n",
       " '__name__',\n",
       " '__package__',\n",
       " '__spec__',\n",
       " 'batch_remove_deep2',\n",
       " 'copy',\n",
       " 'copy_deep',\n",
       " 'get_aggregate',\n",
       " 'get_components',\n",
       " 'get_contained',\n",
       " 'get_container',\n",
       " 'get_decomposition',\n",
       " 'get_elements_by_layer',\n",
       " 'get_elements_by_material',\n",
       " 'get_elements_by_representation',\n",
       " 'get_elements_by_style',\n",
       " 'get_filled_void',\n",
       " 'get_grouped_by',\n",
       " 'get_groups',\n",
       " 'get_layers',\n",
       " 'get_material',\n",
       " 'get_materials',\n",
       " 'get_nest',\n",
       " 'get_parent',\n",
       " 'get_parts',\n",
       " 'get_predefined_type',\n",
       " 'get_properties',\n",
       " 'get_property',\n",
       " 'get_property_definition',\n",
       " 'get_pset',\n",
       " 'get_psets',\n",
       " 'get_quantities',\n",
       " 'get_quantity',\n",
       " 'get_referenced_elements',\n",
       " 'get_referenced_structures',\n",
       " 'get_shape_aspects',\n",
       " 'get_structure_referenced_elements',\n",
       " 'get_styles',\n",
       " 'get_type',\n",
       " 'get_types',\n",
       " 'get_voided_element',\n",
       " 'has_element_reference',\n",
       " 'ifcopenshell',\n",
       " 'namedtuple',\n",
       " 'overload',\n",
       " 'remove_deep',\n",
       " 'remove_deep2',\n",
       " 'replace_attribute',\n",
       " 'unbatch_remove_deep2']"
      ]
     },
     "execution_count": 18,
     "metadata": {},
     "output_type": "execute_result"
    }
   ],
   "source": [
    "dir(ifcopenshell.util.element)"
   ]
  },
  {
   "cell_type": "code",
   "execution_count": null,
   "metadata": {},
   "outputs": [
    {
     "name": "stdout",
     "output_type": "stream",
     "text": [
      "The Stratum bh01_0 is located in Baustelle_Fachsektionstage\n",
      "The Stratum bh01_1 is located in Baustelle_Fachsektionstage\n",
      "The Stratum bh01_2 is located in Baustelle_Fachsektionstage\n",
      "The Stratum bh02_0 is located in Baustelle_Fachsektionstage\n",
      "The Stratum bh02_1 is located in Baustelle_Fachsektionstage\n",
      "The Stratum bh02_2 is located in Baustelle_Fachsektionstage\n",
      "The Stratum bh03_0 is located in Baustelle_Fachsektionstage\n",
      "The Stratum bh03_1 is located in Baustelle_Fachsektionstage\n",
      "The Stratum bh03_2 is located in Baustelle_Fachsektionstage\n",
      "The Stratum bh04_0 is located in Baustelle_Fachsektionstage\n",
      "The Stratum bh04_1 is located in Baustelle_Fachsektionstage\n",
      "The Stratum bh04_2 is located in Baustelle_Fachsektionstage\n",
      "The Stratum bh05_0 is located in Baustelle_Fachsektionstage\n",
      "The Stratum bh05_1 is located in Baustelle_Fachsektionstage\n",
      "The Stratum bh05_2 is located in Baustelle_Fachsektionstage\n",
      "The Stratum S is located in Baustelle_Fachsektionstage\n",
      "The Stratum A is located in Baustelle_Fachsektionstage\n",
      "The Stratum G is located in Baustelle_Fachsektionstage\n"
     ]
    }
   ],
   "source": [
    "# Get the containers for each IfcBorehole\n",
    "stratums = model.by_type(\"IfcGeotechnicalStratum\")\n",
    "for i in stratums:\n",
    "    container = ifcopenshell.util.element.get_container(i)\n",
    "    if container:\n",
    "        print(f\"The Stratum {i.Name} is located in {container.Name}\")\n",
    "    else:\n",
    "        print(f\"No container for {i.Name}\")"
   ]
  },
  {
   "cell_type": "code",
   "execution_count": 20,
   "metadata": {},
   "outputs": [
    {
     "name": "stdout",
     "output_type": "stream",
     "text": [
      "The predifend type of the first stratum is USERDEFINED its object type is: ANSPRACHEBEREICH\n"
     ]
    }
   ],
   "source": [
    "dir(stratums[0])\n",
    "print(\"The predifend type of the first stratum is\", stratums[0].PredefinedType, \"its object type is:\", stratums[0].ObjectType)"
   ]
  },
  {
   "cell_type": "code",
   "execution_count": 21,
   "metadata": {},
   "outputs": [
    {
     "data": {
      "text/plain": [
       "'A volume representing a subsoil layer.'"
      ]
     },
     "execution_count": 21,
     "metadata": {},
     "output_type": "execute_result"
    }
   ],
   "source": [
    "i.Description"
   ]
  },
  {
   "cell_type": "code",
   "execution_count": 22,
   "metadata": {},
   "outputs": [
    {
     "name": "stdout",
     "output_type": "stream",
     "text": [
      "['Description', 'HasApprovals', 'HasConstraints', 'HasExternalReferences', 'LowerBoundValue', 'Name', 'PartOfComplex', 'PartOfPset', 'PropertyDependsOn', 'PropertyForDependance', 'SetPointValue', 'Unit', 'UpperBoundValue', '__annotations__', '__class__', '__del__', '__delattr__', '__dict__', '__dir__', '__doc__', '__eq__', '__format__', '__ge__', '__getattr__', '__getattribute__', '__getitem__', '__getstate__', '__gt__', '__hash__', '__init__', '__init_subclass__', '__le__', '__len__', '__lt__', '__module__', '__ne__', '__new__', '__reduce__', '__reduce_ex__', '__repr__', '__rge__', '__rgt__', '__rle__', '__rlt__', '__setattr__', '__setitem__', '__sizeof__', '__str__', '__subclasshook__', '__weakref__', 'attribute_name', 'attribute_type', 'compare', 'file', 'get_info', 'get_info_2', 'id', 'is_a', 'is_entity', 'to_string', 'unwrap_value', 'walk', 'wrap_value']\n"
     ]
    }
   ],
   "source": [
    "\n",
    "b1 = ifcopenshell.create_entity(\"IfcPropertySingleValue\", Name=\"LowerBound\", NominalValue= model.create_entity(\"IfcReal\", 0))\n",
    "b2 = ifcopenshell.create_entity(\"IfcPropertySingleValue\", Name=\"UpperBound\", NominalValue= model.create_entity(\"IfcReal\", 10.))\n",
    "val = ifcopenshell.create_entity(\"IfcPropertySingleValue\", Name=\"ActualValue\", NominalValue= model.create_entity(\"IfcReal\", 9))\n",
    "boundedval = ifcopenshell.create_entity(\"IfcPropertyBoundedValue\", Name=\"TestProperty\", Description=\"A bounded Value\", LowerBoundValue=b1, UpperBoundValue=b2)\n",
    "boundedval.SetPointValue = val\n",
    "print(dir(boundedval))"
   ]
  },
  {
   "cell_type": "code",
   "execution_count": null,
   "metadata": {},
   "outputs": [
    {
     "data": {
      "text/plain": [
       "['__annotations__',\n",
       " '__builtins__',\n",
       " '__call__',\n",
       " '__class__',\n",
       " '__closure__',\n",
       " '__code__',\n",
       " '__defaults__',\n",
       " '__delattr__',\n",
       " '__dict__',\n",
       " '__dir__',\n",
       " '__doc__',\n",
       " '__eq__',\n",
       " '__format__',\n",
       " '__ge__',\n",
       " '__get__',\n",
       " '__getattribute__',\n",
       " '__getstate__',\n",
       " '__globals__',\n",
       " '__gt__',\n",
       " '__hash__',\n",
       " '__init__',\n",
       " '__init_subclass__',\n",
       " '__kwdefaults__',\n",
       " '__le__',\n",
       " '__lt__',\n",
       " '__module__',\n",
       " '__name__',\n",
       " '__ne__',\n",
       " '__new__',\n",
       " '__qualname__',\n",
       " '__reduce__',\n",
       " '__reduce_ex__',\n",
       " '__repr__',\n",
       " '__setattr__',\n",
       " '__sizeof__',\n",
       " '__str__',\n",
       " '__subclasshook__']"
      ]
     },
     "execution_count": 23,
     "metadata": {},
     "output_type": "execute_result"
    }
   ],
   "source": [
    "angle_unit = ifcopenshell.api.unit.add_si_unit(model, unit_type=\"PLANEANGLEUNIT\",) #RADIAN\n",
    "val = model.create_entity(\"IFCPLANEANGLEMEASURE\", 1.74532925199433E-2)\n",
    "measure_unit = model.create_entity(\"IFCMEASUREWITHUNIT\", UnitComponent=angle_unit, ValueComponent=val)\n",
    "dim_exp = model.create_entity(\"IFCDIMENSIONALEXPONENTS\", 0,0,0,0,0,0,0)\n",
    "conv = model.create_entity(\"IFCCONVERSIONBASEDUNIT\", ConversionFactor=measure_unit, Name=\"Degree\", UnitType=\"PLANEANGLEUNIT\", Dimensions=dim_exp)\n",
    "\n",
    "\n",
    "print(angle_unit)\n",
    "print(measure_unit)\n",
    "print(dim_exp)\n",
    "\n",
    "print(conv, dir(conv))\n",
    "# Reference from a sample IFC File\n",
    "\"\"\"\n",
    "#9 = IFCSIUNIT(*, .PLANEANGLEUNIT., $, .RADIAN.);\n",
    "#10 = IFCMEASUREWITHUNIT(IFCPLANEANGLEMEASURE(1.74532925199433E-2), #9);\n",
    "#11 = IFCDIMENSIONALEXPONENTS(0, 0, 0, 0, 0, 0, 0);\n",
    "#12 = IFCCONVERSIONBASEDUNIT(#11, .PLANEANGLEUNIT., 'DEGREE', #10);\n",
    "\"\"\"\n",
    "pass"
   ]
  },
  {
   "cell_type": "code",
   "execution_count": null,
   "metadata": {},
   "outputs": [],
   "source": []
  }
 ],
 "metadata": {
  "kernelspec": {
   "display_name": "blender_42_env",
   "language": "python",
   "name": "python3"
  },
  "language_info": {
   "codemirror_mode": {
    "name": "ipython",
    "version": 3
   },
   "file_extension": ".py",
   "mimetype": "text/x-python",
   "name": "python",
   "nbconvert_exporter": "python",
   "pygments_lexer": "ipython3",
   "version": "3.11.7"
  }
 },
 "nbformat": 4,
 "nbformat_minor": 2
}
